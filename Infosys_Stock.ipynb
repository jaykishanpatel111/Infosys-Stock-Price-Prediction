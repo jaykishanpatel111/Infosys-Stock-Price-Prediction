{
 "cells": [
  {
   "cell_type": "markdown",
   "id": "ac322bf6",
   "metadata": {},
   "source": [
    "## Infosys Stock Price Prediction using Recurrent Neural Network"
   ]
  },
  {
   "cell_type": "raw",
   "id": "38a8bebd",
   "metadata": {},
   "source": [
    "We have taken Infosys stock price dataset. We will take days opening stock price and predict the ouput on that."
   ]
  },
  {
   "cell_type": "markdown",
   "id": "d89d2194",
   "metadata": {},
   "source": [
    "#### Part 1: Data Preprocessing"
   ]
  },
  {
   "cell_type": "code",
   "execution_count": 1,
   "id": "b029ca2c",
   "metadata": {},
   "outputs": [],
   "source": [
    "# import libraries\n",
    "import numpy as np\n",
    "import pandas as pd\n",
    "import matplotlib.pyplot as plt"
   ]
  },
  {
   "cell_type": "code",
   "execution_count": 2,
   "id": "6566d807",
   "metadata": {
    "scrolled": true
   },
   "outputs": [
    {
     "name": "stdout",
     "output_type": "stream",
     "text": [
      "G:\\Done projects\\RNN\\Infosys Ltd\n"
     ]
    }
   ],
   "source": [
    "cd G:\\Done projects\\RNN\\Infosys Ltd"
   ]
  },
  {
   "cell_type": "code",
   "execution_count": 3,
   "id": "75cc2a6d",
   "metadata": {},
   "outputs": [
    {
     "data": {
      "text/plain": [
       "'G:\\\\Done projects\\\\RNN\\\\Infosys Ltd'"
      ]
     },
     "execution_count": 3,
     "metadata": {},
     "output_type": "execute_result"
    }
   ],
   "source": [
    "pwd"
   ]
  },
  {
   "cell_type": "code",
   "execution_count": 4,
   "id": "d9d19b2a",
   "metadata": {
    "scrolled": true
   },
   "outputs": [
    {
     "data": {
      "text/html": [
       "<div>\n",
       "<style scoped>\n",
       "    .dataframe tbody tr th:only-of-type {\n",
       "        vertical-align: middle;\n",
       "    }\n",
       "\n",
       "    .dataframe tbody tr th {\n",
       "        vertical-align: top;\n",
       "    }\n",
       "\n",
       "    .dataframe thead th {\n",
       "        text-align: right;\n",
       "    }\n",
       "</style>\n",
       "<table border=\"1\" class=\"dataframe\">\n",
       "  <thead>\n",
       "    <tr style=\"text-align: right;\">\n",
       "      <th></th>\n",
       "      <th>Date</th>\n",
       "      <th>Price</th>\n",
       "      <th>Open</th>\n",
       "      <th>High</th>\n",
       "      <th>Low</th>\n",
       "      <th>Volume</th>\n",
       "      <th>Chg%</th>\n",
       "    </tr>\n",
       "  </thead>\n",
       "  <tbody>\n",
       "    <tr>\n",
       "      <th>0</th>\n",
       "      <td>01-Jan-16</td>\n",
       "      <td>548.29</td>\n",
       "      <td>545.69</td>\n",
       "      <td>550.13</td>\n",
       "      <td>542.31</td>\n",
       "      <td>1.81M</td>\n",
       "      <td>-0.01%</td>\n",
       "    </tr>\n",
       "    <tr>\n",
       "      <th>1</th>\n",
       "      <td>04-Jan-16</td>\n",
       "      <td>535.22</td>\n",
       "      <td>545.66</td>\n",
       "      <td>546.90</td>\n",
       "      <td>533.80</td>\n",
       "      <td>3.98M</td>\n",
       "      <td>-2.38%</td>\n",
       "    </tr>\n",
       "    <tr>\n",
       "      <th>2</th>\n",
       "      <td>05-Jan-16</td>\n",
       "      <td>532.81</td>\n",
       "      <td>538.49</td>\n",
       "      <td>538.49</td>\n",
       "      <td>526.96</td>\n",
       "      <td>4.95M</td>\n",
       "      <td>-0.45%</td>\n",
       "    </tr>\n",
       "    <tr>\n",
       "      <th>3</th>\n",
       "      <td>06-Jan-16</td>\n",
       "      <td>530.48</td>\n",
       "      <td>533.11</td>\n",
       "      <td>533.11</td>\n",
       "      <td>525.30</td>\n",
       "      <td>5.59M</td>\n",
       "      <td>-0.44%</td>\n",
       "    </tr>\n",
       "    <tr>\n",
       "      <th>4</th>\n",
       "      <td>07-Jan-16</td>\n",
       "      <td>521.28</td>\n",
       "      <td>525.87</td>\n",
       "      <td>529.76</td>\n",
       "      <td>519.84</td>\n",
       "      <td>5.29M</td>\n",
       "      <td>-1.73%</td>\n",
       "    </tr>\n",
       "    <tr>\n",
       "      <th>...</th>\n",
       "      <td>...</td>\n",
       "      <td>...</td>\n",
       "      <td>...</td>\n",
       "      <td>...</td>\n",
       "      <td>...</td>\n",
       "      <td>...</td>\n",
       "      <td>...</td>\n",
       "    </tr>\n",
       "    <tr>\n",
       "      <th>1594</th>\n",
       "      <td>NaN</td>\n",
       "      <td>NaN</td>\n",
       "      <td>NaN</td>\n",
       "      <td>NaN</td>\n",
       "      <td>NaN</td>\n",
       "      <td>NaN</td>\n",
       "      <td>NaN</td>\n",
       "    </tr>\n",
       "    <tr>\n",
       "      <th>1595</th>\n",
       "      <td>NaN</td>\n",
       "      <td>NaN</td>\n",
       "      <td>NaN</td>\n",
       "      <td>NaN</td>\n",
       "      <td>NaN</td>\n",
       "      <td>NaN</td>\n",
       "      <td>NaN</td>\n",
       "    </tr>\n",
       "    <tr>\n",
       "      <th>1596</th>\n",
       "      <td>NaN</td>\n",
       "      <td>NaN</td>\n",
       "      <td>NaN</td>\n",
       "      <td>NaN</td>\n",
       "      <td>NaN</td>\n",
       "      <td>NaN</td>\n",
       "      <td>NaN</td>\n",
       "    </tr>\n",
       "    <tr>\n",
       "      <th>1597</th>\n",
       "      <td>NaN</td>\n",
       "      <td>NaN</td>\n",
       "      <td>NaN</td>\n",
       "      <td>NaN</td>\n",
       "      <td>NaN</td>\n",
       "      <td>NaN</td>\n",
       "      <td>NaN</td>\n",
       "    </tr>\n",
       "    <tr>\n",
       "      <th>1598</th>\n",
       "      <td>NaN</td>\n",
       "      <td>NaN</td>\n",
       "      <td>NaN</td>\n",
       "      <td>NaN</td>\n",
       "      <td>NaN</td>\n",
       "      <td>NaN</td>\n",
       "      <td>NaN</td>\n",
       "    </tr>\n",
       "  </tbody>\n",
       "</table>\n",
       "<p>1599 rows × 7 columns</p>\n",
       "</div>"
      ],
      "text/plain": [
       "          Date   Price    Open    High     Low  Volume    Chg% \n",
       "0     01-Jan-16  548.29  545.69  550.13  542.31   1.81M  -0.01%\n",
       "1     04-Jan-16  535.22  545.66  546.90  533.80   3.98M  -2.38%\n",
       "2     05-Jan-16  532.81  538.49  538.49  526.96   4.95M  -0.45%\n",
       "3     06-Jan-16  530.48  533.11  533.11  525.30   5.59M  -0.44%\n",
       "4     07-Jan-16  521.28  525.87  529.76  519.84   5.29M  -1.73%\n",
       "...         ...     ...     ...     ...     ...     ...     ...\n",
       "1594        NaN     NaN     NaN     NaN     NaN     NaN     NaN\n",
       "1595        NaN     NaN     NaN     NaN     NaN     NaN     NaN\n",
       "1596        NaN     NaN     NaN     NaN     NaN     NaN     NaN\n",
       "1597        NaN     NaN     NaN     NaN     NaN     NaN     NaN\n",
       "1598        NaN     NaN     NaN     NaN     NaN     NaN     NaN\n",
       "\n",
       "[1599 rows x 7 columns]"
      ]
     },
     "execution_count": 4,
     "metadata": {},
     "output_type": "execute_result"
    }
   ],
   "source": [
    "# import training set\n",
    "training_set=pd.read_csv(\"Infosys.csv\")\n",
    "training_set"
   ]
  },
  {
   "cell_type": "code",
   "execution_count": 5,
   "id": "ef6d503f",
   "metadata": {},
   "outputs": [],
   "source": [
    "training_set=training_set.iloc[:,2:3].values"
   ]
  },
  {
   "cell_type": "code",
   "execution_count": 6,
   "id": "d7b5cb89",
   "metadata": {},
   "outputs": [
    {
     "data": {
      "text/plain": [
       "array([[545.69],\n",
       "       [545.66],\n",
       "       [538.49],\n",
       "       ...,\n",
       "       [   nan],\n",
       "       [   nan],\n",
       "       [   nan]])"
      ]
     },
     "execution_count": 6,
     "metadata": {},
     "output_type": "execute_result"
    }
   ],
   "source": [
    "training_set"
   ]
  },
  {
   "cell_type": "raw",
   "id": "18130d87",
   "metadata": {},
   "source": [
    "# MinMaxScaler transform the dataset into the range of (0,1). Here is formula below\n",
    "# X_std = (X - X.min(axis=0)) / (X.max(axis=0) - X.min(axis=0))\n",
    "# X_scaled = X_std * (max - min) + min"
   ]
  },
  {
   "cell_type": "code",
   "execution_count": 7,
   "id": "5cac2f08",
   "metadata": {},
   "outputs": [],
   "source": [
    "# feature Scaling\n",
    "from sklearn.preprocessing import MinMaxScaler\n",
    "sc= MinMaxScaler()\n",
    "training_set=sc.fit_transform(training_set)"
   ]
  },
  {
   "cell_type": "code",
   "execution_count": 8,
   "id": "33575fa7",
   "metadata": {},
   "outputs": [
    {
     "data": {
      "text/plain": [
       "array([[0.07266312],\n",
       "       [0.07264314],\n",
       "       [0.06786951],\n",
       "       ...,\n",
       "       [       nan],\n",
       "       [       nan],\n",
       "       [       nan]])"
      ]
     },
     "execution_count": 8,
     "metadata": {},
     "output_type": "execute_result"
    }
   ],
   "source": [
    "training_set"
   ]
  },
  {
   "cell_type": "code",
   "execution_count": 9,
   "id": "9d8ecb2e",
   "metadata": {},
   "outputs": [],
   "source": [
    "# Getting the input and output\n",
    "X_train= training_set[0:1257]\n",
    "y_train= training_set[1:1258]"
   ]
  },
  {
   "cell_type": "code",
   "execution_count": 10,
   "id": "61657d4c",
   "metadata": {},
   "outputs": [
    {
     "data": {
      "text/plain": [
       "array([[0.07266312],\n",
       "       [0.07264314],\n",
       "       [0.06786951],\n",
       "       ...,\n",
       "       [0.58791611],\n",
       "       [0.56940746],\n",
       "       [0.56571238]])"
      ]
     },
     "execution_count": 10,
     "metadata": {},
     "output_type": "execute_result"
    }
   ],
   "source": [
    "X_train"
   ]
  },
  {
   "cell_type": "code",
   "execution_count": 11,
   "id": "8ffa79f6",
   "metadata": {},
   "outputs": [
    {
     "data": {
      "text/plain": [
       "array([[0.07264314],\n",
       "       [0.06786951],\n",
       "       [0.06428762],\n",
       "       ...,\n",
       "       [0.56940746],\n",
       "       [0.56571238],\n",
       "       [0.54194407]])"
      ]
     },
     "execution_count": 11,
     "metadata": {},
     "output_type": "execute_result"
    }
   ],
   "source": [
    "y_train"
   ]
  },
  {
   "cell_type": "code",
   "execution_count": 12,
   "id": "477273a0",
   "metadata": {},
   "outputs": [],
   "source": [
    "# Reshaping\n",
    "X_train=np.reshape(X_train, (1257 , 1 , 1))"
   ]
  },
  {
   "cell_type": "markdown",
   "id": "241cfefc",
   "metadata": {},
   "source": [
    "#### Part 2: Building the RNN"
   ]
  },
  {
   "cell_type": "code",
   "execution_count": 13,
   "id": "019e5436",
   "metadata": {},
   "outputs": [],
   "source": [
    "# importing the Keras libraries and Packages\n",
    "from tensorflow import keras\n",
    "from keras.models import Sequential\n",
    "from keras.layers import Dense\n",
    "from keras.layers import LSTM"
   ]
  },
  {
   "cell_type": "code",
   "execution_count": 14,
   "id": "21c88c47",
   "metadata": {},
   "outputs": [],
   "source": [
    "# initialize the RNN \n",
    "model = Sequential()"
   ]
  },
  {
   "cell_type": "code",
   "execution_count": 15,
   "id": "a2bcc18d",
   "metadata": {},
   "outputs": [],
   "source": [
    "# adding the input layer and LSTM layer\n",
    "model.add(LSTM(units=256, activation= 'sigmoid', input_shape= (None,1)))"
   ]
  },
  {
   "cell_type": "code",
   "execution_count": 16,
   "id": "b6989b57",
   "metadata": {},
   "outputs": [],
   "source": [
    "# adding the output layer\n",
    "model.add(Dense( units=1 ))   # units= Number of outputs  "
   ]
  },
  {
   "cell_type": "code",
   "execution_count": 17,
   "id": "6f9e2490",
   "metadata": {},
   "outputs": [],
   "source": [
    "# compiling the RNN\n",
    "model.compile(optimizer='adam', loss='mean_squared_error')"
   ]
  },
  {
   "cell_type": "code",
   "execution_count": 18,
   "id": "d5fcac5a",
   "metadata": {
    "scrolled": true
   },
   "outputs": [
    {
     "name": "stdout",
     "output_type": "stream",
     "text": [
      "Epoch 1/200\n",
      "10/10 [==============================] - 3s 8ms/step - loss: 0.0176\n",
      "Epoch 2/200\n",
      "10/10 [==============================] - 0s 8ms/step - loss: 0.0156\n",
      "Epoch 3/200\n",
      "10/10 [==============================] - 0s 8ms/step - loss: 0.0138\n",
      "Epoch 4/200\n",
      "10/10 [==============================] - 0s 8ms/step - loss: 0.0124\n",
      "Epoch 5/200\n",
      "10/10 [==============================] - 0s 9ms/step - loss: 0.0116\n",
      "Epoch 6/200\n",
      "10/10 [==============================] - 0s 9ms/step - loss: 0.0109\n",
      "Epoch 7/200\n",
      "10/10 [==============================] - 0s 9ms/step - loss: 0.0101\n",
      "Epoch 8/200\n",
      "10/10 [==============================] - 0s 9ms/step - loss: 0.0094\n",
      "Epoch 9/200\n",
      "10/10 [==============================] - 0s 9ms/step - loss: 0.0087\n",
      "Epoch 10/200\n",
      "10/10 [==============================] - 0s 9ms/step - loss: 0.0080\n",
      "Epoch 11/200\n",
      "10/10 [==============================] - 0s 9ms/step - loss: 0.0074\n",
      "Epoch 12/200\n",
      "10/10 [==============================] - 0s 9ms/step - loss: 0.0068\n",
      "Epoch 13/200\n",
      "10/10 [==============================] - 0s 9ms/step - loss: 0.0063\n",
      "Epoch 14/200\n",
      "10/10 [==============================] - 0s 9ms/step - loss: 0.0058\n",
      "Epoch 15/200\n",
      "10/10 [==============================] - 0s 11ms/step - loss: 0.0053\n",
      "Epoch 16/200\n",
      "10/10 [==============================] - 0s 11ms/step - loss: 0.0048\n",
      "Epoch 17/200\n",
      "10/10 [==============================] - 0s 10ms/step - loss: 0.0044\n",
      "Epoch 18/200\n",
      "10/10 [==============================] - 0s 11ms/step - loss: 0.0040\n",
      "Epoch 19/200\n",
      "10/10 [==============================] - 0s 9ms/step - loss: 0.0036\n",
      "Epoch 20/200\n",
      "10/10 [==============================] - 0s 9ms/step - loss: 0.0032\n",
      "Epoch 21/200\n",
      "10/10 [==============================] - 0s 8ms/step - loss: 0.0029\n",
      "Epoch 22/200\n",
      "10/10 [==============================] - 0s 9ms/step - loss: 0.0025\n",
      "Epoch 23/200\n",
      "10/10 [==============================] - 0s 7ms/step - loss: 0.0023\n",
      "Epoch 24/200\n",
      "10/10 [==============================] - 0s 9ms/step - loss: 0.0020\n",
      "Epoch 25/200\n",
      "10/10 [==============================] - 0s 8ms/step - loss: 0.0018\n",
      "Epoch 26/200\n",
      "10/10 [==============================] - 0s 8ms/step - loss: 0.0016\n",
      "Epoch 27/200\n",
      "10/10 [==============================] - 0s 9ms/step - loss: 0.0014\n",
      "Epoch 28/200\n",
      "10/10 [==============================] - 0s 8ms/step - loss: 0.0012\n",
      "Epoch 29/200\n",
      "10/10 [==============================] - 0s 8ms/step - loss: 0.0010\n",
      "Epoch 30/200\n",
      "10/10 [==============================] - 0s 9ms/step - loss: 8.9047e-04\n",
      "Epoch 31/200\n",
      "10/10 [==============================] - 0s 8ms/step - loss: 7.6003e-04\n",
      "Epoch 32/200\n",
      "10/10 [==============================] - 0s 8ms/step - loss: 6.6482e-04\n",
      "Epoch 33/200\n",
      "10/10 [==============================] - 0s 9ms/step - loss: 5.6925e-04\n",
      "Epoch 34/200\n",
      "10/10 [==============================] - 0s 8ms/step - loss: 4.7521e-04\n",
      "Epoch 35/200\n",
      "10/10 [==============================] - 0s 8ms/step - loss: 4.0876e-04\n",
      "Epoch 36/200\n",
      "10/10 [==============================] - 0s 10ms/step - loss: 3.6322e-04\n",
      "Epoch 37/200\n",
      "10/10 [==============================] - 0s 9ms/step - loss: 3.0530e-04\n",
      "Epoch 38/200\n",
      "10/10 [==============================] - 0s 9ms/step - loss: 2.5913e-04\n",
      "Epoch 39/200\n",
      "10/10 [==============================] - 0s 10ms/step - loss: 2.3343e-04\n",
      "Epoch 40/200\n",
      "10/10 [==============================] - 0s 9ms/step - loss: 1.9268e-04\n",
      "Epoch 41/200\n",
      "10/10 [==============================] - 0s 10ms/step - loss: 1.6766e-04\n",
      "Epoch 42/200\n",
      "10/10 [==============================] - 0s 10ms/step - loss: 1.4977e-04\n",
      "Epoch 43/200\n",
      "10/10 [==============================] - 0s 9ms/step - loss: 1.3319e-04\n",
      "Epoch 44/200\n",
      "10/10 [==============================] - 0s 10ms/step - loss: 1.1940e-04\n",
      "Epoch 45/200\n",
      "10/10 [==============================] - 0s 10ms/step - loss: 1.0886e-04\n",
      "Epoch 46/200\n",
      "10/10 [==============================] - 0s 10ms/step - loss: 1.0142e-04\n",
      "Epoch 47/200\n",
      "10/10 [==============================] - 0s 11ms/step - loss: 9.5898e-05\n",
      "Epoch 48/200\n",
      "10/10 [==============================] - 0s 10ms/step - loss: 8.7806e-05\n",
      "Epoch 49/200\n",
      "10/10 [==============================] - 0s 9ms/step - loss: 8.2209e-05\n",
      "Epoch 50/200\n",
      "10/10 [==============================] - 0s 9ms/step - loss: 8.0285e-05\n",
      "Epoch 51/200\n",
      "10/10 [==============================] - 0s 12ms/step - loss: 7.6547e-05\n",
      "Epoch 52/200\n",
      "10/10 [==============================] - 0s 9ms/step - loss: 7.4650e-05\n",
      "Epoch 53/200\n",
      "10/10 [==============================] - 0s 9ms/step - loss: 7.2541e-05\n",
      "Epoch 54/200\n",
      "10/10 [==============================] - 0s 9ms/step - loss: 7.1977e-05\n",
      "Epoch 55/200\n",
      "10/10 [==============================] - 0s 9ms/step - loss: 7.2762e-05\n",
      "Epoch 56/200\n",
      "10/10 [==============================] - 0s 9ms/step - loss: 7.1179e-05\n",
      "Epoch 57/200\n",
      "10/10 [==============================] - 0s 9ms/step - loss: 7.1718e-05\n",
      "Epoch 58/200\n",
      "10/10 [==============================] - 0s 9ms/step - loss: 7.0274e-05\n",
      "Epoch 59/200\n",
      "10/10 [==============================] - 0s 9ms/step - loss: 7.0171e-05\n",
      "Epoch 60/200\n",
      "10/10 [==============================] - 0s 9ms/step - loss: 7.2272e-05\n",
      "Epoch 61/200\n",
      "10/10 [==============================] - 0s 9ms/step - loss: 7.1380e-05\n",
      "Epoch 62/200\n",
      "10/10 [==============================] - 0s 9ms/step - loss: 6.8063e-05\n",
      "Epoch 63/200\n",
      "10/10 [==============================] - 0s 9ms/step - loss: 6.8509e-05\n",
      "Epoch 64/200\n",
      "10/10 [==============================] - 0s 9ms/step - loss: 6.7644e-05\n",
      "Epoch 65/200\n",
      "10/10 [==============================] - 0s 9ms/step - loss: 6.9349e-05\n",
      "Epoch 66/200\n",
      "10/10 [==============================] - 0s 9ms/step - loss: 7.0871e-05\n",
      "Epoch 67/200\n",
      "10/10 [==============================] - 0s 10ms/step - loss: 7.0562e-05\n",
      "Epoch 68/200\n",
      "10/10 [==============================] - 0s 10ms/step - loss: 6.8199e-05\n",
      "Epoch 69/200\n",
      "10/10 [==============================] - 0s 9ms/step - loss: 6.9015e-05\n",
      "Epoch 70/200\n",
      "10/10 [==============================] - 0s 10ms/step - loss: 6.8570e-05\n",
      "Epoch 71/200\n",
      "10/10 [==============================] - 0s 9ms/step - loss: 7.1246e-05\n",
      "Epoch 72/200\n",
      "10/10 [==============================] - 0s 9ms/step - loss: 7.0006e-05\n",
      "Epoch 73/200\n",
      "10/10 [==============================] - 0s 10ms/step - loss: 6.9306e-05\n",
      "Epoch 74/200\n",
      "10/10 [==============================] - 0s 9ms/step - loss: 7.1264e-05\n",
      "Epoch 75/200\n",
      "10/10 [==============================] - 0s 9ms/step - loss: 7.0495e-05\n",
      "Epoch 76/200\n",
      "10/10 [==============================] - 0s 10ms/step - loss: 7.2151e-05\n",
      "Epoch 77/200\n",
      "10/10 [==============================] - 0s 9ms/step - loss: 7.4456e-05\n",
      "Epoch 78/200\n",
      "10/10 [==============================] - 0s 10ms/step - loss: 7.0372e-05\n",
      "Epoch 79/200\n",
      "10/10 [==============================] - 0s 9ms/step - loss: 7.3051e-05\n",
      "Epoch 80/200\n",
      "10/10 [==============================] - 0s 12ms/step - loss: 6.8660e-05\n",
      "Epoch 81/200\n",
      "10/10 [==============================] - 0s 10ms/step - loss: 6.8973e-05\n",
      "Epoch 82/200\n",
      "10/10 [==============================] - 0s 11ms/step - loss: 6.8107e-05\n",
      "Epoch 83/200\n",
      "10/10 [==============================] - 0s 9ms/step - loss: 6.8500e-05\n",
      "Epoch 84/200\n",
      "10/10 [==============================] - 0s 9ms/step - loss: 6.8568e-05\n",
      "Epoch 85/200\n",
      "10/10 [==============================] - 0s 9ms/step - loss: 6.9041e-05\n",
      "Epoch 86/200\n",
      "10/10 [==============================] - 0s 9ms/step - loss: 7.3832e-05\n",
      "Epoch 87/200\n",
      "10/10 [==============================] - 0s 9ms/step - loss: 6.8562e-05\n",
      "Epoch 88/200\n",
      "10/10 [==============================] - 0s 9ms/step - loss: 6.8461e-05\n",
      "Epoch 89/200\n",
      "10/10 [==============================] - 0s 9ms/step - loss: 6.9143e-05\n",
      "Epoch 90/200\n",
      "10/10 [==============================] - 0s 7ms/step - loss: 7.1271e-05\n",
      "Epoch 91/200\n",
      "10/10 [==============================] - 0s 9ms/step - loss: 7.5671e-05\n",
      "Epoch 92/200\n",
      "10/10 [==============================] - 0s 9ms/step - loss: 7.1435e-05\n",
      "Epoch 93/200\n",
      "10/10 [==============================] - 0s 8ms/step - loss: 6.8236e-05\n",
      "Epoch 94/200\n",
      "10/10 [==============================] - 0s 10ms/step - loss: 7.1121e-05\n",
      "Epoch 95/200\n",
      "10/10 [==============================] - 0s 9ms/step - loss: 7.1592e-05\n",
      "Epoch 96/200\n",
      "10/10 [==============================] - 0s 9ms/step - loss: 6.7626e-05\n",
      "Epoch 97/200\n",
      "10/10 [==============================] - 0s 11ms/step - loss: 6.8841e-05\n",
      "Epoch 98/200\n",
      "10/10 [==============================] - 0s 11ms/step - loss: 7.2016e-05\n",
      "Epoch 99/200\n",
      "10/10 [==============================] - 0s 11ms/step - loss: 7.1720e-05\n",
      "Epoch 100/200\n",
      "10/10 [==============================] - 0s 9ms/step - loss: 6.9367e-05\n",
      "Epoch 101/200\n",
      "10/10 [==============================] - 0s 11ms/step - loss: 6.9608e-05\n",
      "Epoch 102/200\n",
      "10/10 [==============================] - 0s 10ms/step - loss: 7.2288e-05\n",
      "Epoch 103/200\n",
      "10/10 [==============================] - 0s 9ms/step - loss: 7.3620e-05\n",
      "Epoch 104/200\n",
      "10/10 [==============================] - 0s 9ms/step - loss: 6.9613e-05\n",
      "Epoch 105/200\n",
      "10/10 [==============================] - 0s 8ms/step - loss: 6.8990e-05\n",
      "Epoch 106/200\n",
      "10/10 [==============================] - 0s 8ms/step - loss: 7.1625e-05\n",
      "Epoch 107/200\n",
      "10/10 [==============================] - 0s 8ms/step - loss: 7.5177e-05\n",
      "Epoch 108/200\n",
      "10/10 [==============================] - 0s 9ms/step - loss: 7.2040e-05\n",
      "Epoch 109/200\n",
      "10/10 [==============================] - 0s 10ms/step - loss: 7.1585e-05\n",
      "Epoch 110/200\n",
      "10/10 [==============================] - 0s 12ms/step - loss: 6.8754e-05\n",
      "Epoch 111/200\n",
      "10/10 [==============================] - 0s 12ms/step - loss: 6.8303e-05\n",
      "Epoch 112/200\n",
      "10/10 [==============================] - 0s 15ms/step - loss: 6.8515e-05\n",
      "Epoch 113/200\n",
      "10/10 [==============================] - 0s 12ms/step - loss: 6.8250e-05\n",
      "Epoch 114/200\n",
      "10/10 [==============================] - 0s 8ms/step - loss: 7.0635e-05\n",
      "Epoch 115/200\n",
      "10/10 [==============================] - 0s 17ms/step - loss: 6.9048e-05\n",
      "Epoch 116/200\n",
      "10/10 [==============================] - 0s 11ms/step - loss: 7.3980e-05\n",
      "Epoch 117/200\n",
      "10/10 [==============================] - 0s 12ms/step - loss: 6.9522e-05\n",
      "Epoch 118/200\n",
      "10/10 [==============================] - 0s 10ms/step - loss: 7.1569e-05\n",
      "Epoch 119/200\n",
      "10/10 [==============================] - 0s 11ms/step - loss: 6.9965e-05\n",
      "Epoch 120/200\n",
      "10/10 [==============================] - 0s 11ms/step - loss: 6.8723e-05\n",
      "Epoch 121/200\n",
      "10/10 [==============================] - 0s 12ms/step - loss: 7.6161e-05\n",
      "Epoch 122/200\n",
      "10/10 [==============================] - 0s 11ms/step - loss: 7.2069e-05\n",
      "Epoch 123/200\n",
      "10/10 [==============================] - 0s 10ms/step - loss: 6.9058e-05\n",
      "Epoch 124/200\n",
      "10/10 [==============================] - 0s 10ms/step - loss: 6.9800e-05\n",
      "Epoch 125/200\n",
      "10/10 [==============================] - 0s 12ms/step - loss: 7.0798e-05\n",
      "Epoch 126/200\n",
      "10/10 [==============================] - 0s 12ms/step - loss: 6.8686e-05\n",
      "Epoch 127/200\n",
      "10/10 [==============================] - 0s 11ms/step - loss: 7.4817e-05\n",
      "Epoch 128/200\n",
      "10/10 [==============================] - 0s 15ms/step - loss: 6.9410e-05\n",
      "Epoch 129/200\n",
      "10/10 [==============================] - 0s 11ms/step - loss: 7.4568e-05\n",
      "Epoch 130/200\n",
      "10/10 [==============================] - 0s 11ms/step - loss: 7.1617e-05\n",
      "Epoch 131/200\n",
      "10/10 [==============================] - 0s 10ms/step - loss: 6.7739e-05\n",
      "Epoch 132/200\n",
      "10/10 [==============================] - 0s 10ms/step - loss: 6.9971e-05\n",
      "Epoch 133/200\n",
      "10/10 [==============================] - 0s 12ms/step - loss: 7.4990e-05\n",
      "Epoch 134/200\n",
      "10/10 [==============================] - 0s 11ms/step - loss: 7.1032e-05\n",
      "Epoch 135/200\n",
      "10/10 [==============================] - 0s 10ms/step - loss: 7.9753e-05\n",
      "Epoch 136/200\n",
      "10/10 [==============================] - 0s 10ms/step - loss: 7.3431e-05\n",
      "Epoch 137/200\n",
      "10/10 [==============================] - 0s 10ms/step - loss: 6.8803e-05\n",
      "Epoch 138/200\n",
      "10/10 [==============================] - 0s 10ms/step - loss: 7.1582e-05\n",
      "Epoch 139/200\n",
      "10/10 [==============================] - 0s 10ms/step - loss: 7.7767e-05\n",
      "Epoch 140/200\n",
      "10/10 [==============================] - 0s 10ms/step - loss: 7.6611e-05\n",
      "Epoch 141/200\n",
      "10/10 [==============================] - 0s 10ms/step - loss: 7.1866e-05\n",
      "Epoch 142/200\n",
      "10/10 [==============================] - 0s 10ms/step - loss: 6.9794e-05\n",
      "Epoch 143/200\n",
      "10/10 [==============================] - 0s 10ms/step - loss: 6.8826e-05\n",
      "Epoch 144/200\n",
      "10/10 [==============================] - 0s 10ms/step - loss: 7.3740e-05\n",
      "Epoch 145/200\n",
      "10/10 [==============================] - 0s 10ms/step - loss: 7.3472e-05\n",
      "Epoch 146/200\n",
      "10/10 [==============================] - 0s 10ms/step - loss: 8.0469e-05\n",
      "Epoch 147/200\n",
      "10/10 [==============================] - 0s 10ms/step - loss: 7.3020e-05\n",
      "Epoch 148/200\n",
      "10/10 [==============================] - 0s 10ms/step - loss: 7.4780e-05\n",
      "Epoch 149/200\n",
      "10/10 [==============================] - 0s 11ms/step - loss: 7.9360e-05\n",
      "Epoch 150/200\n",
      "10/10 [==============================] - 0s 10ms/step - loss: 7.1324e-05\n",
      "Epoch 151/200\n",
      "10/10 [==============================] - 0s 11ms/step - loss: 6.9397e-05\n",
      "Epoch 152/200\n",
      "10/10 [==============================] - 0s 10ms/step - loss: 7.3722e-05\n",
      "Epoch 153/200\n",
      "10/10 [==============================] - 0s 10ms/step - loss: 6.9861e-05\n",
      "Epoch 154/200\n",
      "10/10 [==============================] - 0s 14ms/step - loss: 7.5231e-05\n",
      "Epoch 155/200\n",
      "10/10 [==============================] - 0s 11ms/step - loss: 7.0921e-05\n",
      "Epoch 156/200\n",
      "10/10 [==============================] - 0s 9ms/step - loss: 6.8976e-05\n",
      "Epoch 157/200\n",
      "10/10 [==============================] - 0s 9ms/step - loss: 7.0770e-05\n",
      "Epoch 158/200\n",
      "10/10 [==============================] - 0s 9ms/step - loss: 7.5502e-05\n",
      "Epoch 159/200\n",
      "10/10 [==============================] - 0s 9ms/step - loss: 7.1133e-05\n",
      "Epoch 160/200\n",
      "10/10 [==============================] - 0s 9ms/step - loss: 7.2457e-05\n",
      "Epoch 161/200\n",
      "10/10 [==============================] - 0s 11ms/step - loss: 6.8240e-05\n",
      "Epoch 162/200\n",
      "10/10 [==============================] - 0s 10ms/step - loss: 7.7372e-05\n",
      "Epoch 163/200\n",
      "10/10 [==============================] - 0s 9ms/step - loss: 7.0627e-05\n",
      "Epoch 164/200\n",
      "10/10 [==============================] - 0s 9ms/step - loss: 7.4207e-05\n",
      "Epoch 165/200\n",
      "10/10 [==============================] - 0s 16ms/step - loss: 7.0748e-05\n",
      "Epoch 166/200\n",
      "10/10 [==============================] - 0s 12ms/step - loss: 6.8422e-05\n",
      "Epoch 167/200\n",
      "10/10 [==============================] - 0s 10ms/step - loss: 6.9727e-05\n",
      "Epoch 168/200\n",
      "10/10 [==============================] - 0s 10ms/step - loss: 7.7186e-05\n",
      "Epoch 169/200\n",
      "10/10 [==============================] - 0s 10ms/step - loss: 7.6977e-05\n",
      "Epoch 170/200\n",
      "10/10 [==============================] - 0s 10ms/step - loss: 6.9381e-05\n",
      "Epoch 171/200\n",
      "10/10 [==============================] - 0s 9ms/step - loss: 6.9142e-05\n",
      "Epoch 172/200\n",
      "10/10 [==============================] - 0s 9ms/step - loss: 7.1595e-05\n",
      "Epoch 173/200\n",
      "10/10 [==============================] - 0s 10ms/step - loss: 8.4935e-05\n",
      "Epoch 174/200\n",
      "10/10 [==============================] - 0s 10ms/step - loss: 7.1798e-05\n",
      "Epoch 175/200\n",
      "10/10 [==============================] - 0s 11ms/step - loss: 7.2824e-05\n",
      "Epoch 176/200\n",
      "10/10 [==============================] - 0s 15ms/step - loss: 7.5797e-05\n",
      "Epoch 177/200\n",
      "10/10 [==============================] - 0s 10ms/step - loss: 9.0592e-05\n",
      "Epoch 178/200\n",
      "10/10 [==============================] - 0s 11ms/step - loss: 7.1638e-05\n",
      "Epoch 179/200\n",
      "10/10 [==============================] - 0s 11ms/step - loss: 7.3700e-05\n",
      "Epoch 180/200\n",
      "10/10 [==============================] - 0s 10ms/step - loss: 6.8332e-05\n",
      "Epoch 181/200\n",
      "10/10 [==============================] - 0s 9ms/step - loss: 7.0318e-05\n",
      "Epoch 182/200\n",
      "10/10 [==============================] - 0s 9ms/step - loss: 7.3486e-05\n",
      "Epoch 183/200\n",
      "10/10 [==============================] - 0s 9ms/step - loss: 7.3806e-05\n",
      "Epoch 184/200\n",
      "10/10 [==============================] - 0s 8ms/step - loss: 7.3845e-05\n",
      "Epoch 185/200\n",
      "10/10 [==============================] - 0s 9ms/step - loss: 6.8900e-05\n",
      "Epoch 186/200\n",
      "10/10 [==============================] - 0s 9ms/step - loss: 7.4286e-05\n",
      "Epoch 187/200\n",
      "10/10 [==============================] - 0s 11ms/step - loss: 7.5344e-05\n",
      "Epoch 188/200\n",
      "10/10 [==============================] - 0s 11ms/step - loss: 7.2848e-05\n",
      "Epoch 189/200\n",
      "10/10 [==============================] - 0s 10ms/step - loss: 6.9406e-05\n",
      "Epoch 190/200\n",
      "10/10 [==============================] - 0s 10ms/step - loss: 7.5412e-05\n",
      "Epoch 191/200\n",
      "10/10 [==============================] - 0s 8ms/step - loss: 8.3473e-05\n",
      "Epoch 192/200\n",
      "10/10 [==============================] - 0s 11ms/step - loss: 7.7526e-05\n",
      "Epoch 193/200\n",
      "10/10 [==============================] - 0s 9ms/step - loss: 7.1994e-05\n",
      "Epoch 194/200\n",
      "10/10 [==============================] - 0s 10ms/step - loss: 7.1701e-05\n",
      "Epoch 195/200\n",
      "10/10 [==============================] - 0s 9ms/step - loss: 7.9433e-05\n",
      "Epoch 196/200\n",
      "10/10 [==============================] - 0s 8ms/step - loss: 8.3721e-05\n",
      "Epoch 197/200\n",
      "10/10 [==============================] - 0s 9ms/step - loss: 8.2701e-05\n",
      "Epoch 198/200\n",
      "10/10 [==============================] - 0s 9ms/step - loss: 7.5260e-05\n",
      "Epoch 199/200\n",
      "10/10 [==============================] - 0s 9ms/step - loss: 9.2423e-05\n",
      "Epoch 200/200\n",
      "10/10 [==============================] - 0s 9ms/step - loss: 8.9449e-05\n"
     ]
    },
    {
     "data": {
      "text/plain": [
       "<keras.callbacks.History at 0x1e75d414e20>"
      ]
     },
     "execution_count": 18,
     "metadata": {},
     "output_type": "execute_result"
    }
   ],
   "source": [
    "# fitting the RNN to the training set\n",
    "model.fit(X_train, y_train, batch_size=128, epochs=200)"
   ]
  },
  {
   "cell_type": "markdown",
   "id": "ff3885fe",
   "metadata": {},
   "source": [
    "#### Part 3: Making the Prediction and Visulising the result"
   ]
  },
  {
   "cell_type": "code",
   "execution_count": 19,
   "id": "517a55bd",
   "metadata": {},
   "outputs": [],
   "source": [
    "# Geting the real stock price of 2017\n",
    "test_set = pd.read_csv(\"Infosys_test.csv\")\n",
    "real_stock_price = test_set.iloc[:,2:3].values"
   ]
  },
  {
   "cell_type": "code",
   "execution_count": 20,
   "id": "58435be0",
   "metadata": {},
   "outputs": [
    {
     "data": {
      "text/plain": [
       "array([[1550.9 ],\n",
       "       [1547.25],\n",
       "       [1560.05],\n",
       "       [1550.  ],\n",
       "       [1540.  ],\n",
       "       [1558.  ],\n",
       "       [1549.95],\n",
       "       [1514.  ],\n",
       "       [1519.3 ],\n",
       "       [1510.  ],\n",
       "       [1494.9 ],\n",
       "       [1522.  ],\n",
       "       [1481.  ],\n",
       "       [1453.  ],\n",
       "       [1455.1 ],\n",
       "       [1468.6 ],\n",
       "       [1435.  ],\n",
       "       [1418.  ],\n",
       "       [1443.95],\n",
       "       [1487.  ],\n",
       "       [1510.7 ],\n",
       "       [1513.  ],\n",
       "       [1484.  ],\n",
       "       [1524.9 ],\n",
       "       [1516.  ],\n",
       "       [1519.85],\n",
       "       [1520.2 ],\n",
       "       [1485.  ],\n",
       "       [1486.1 ],\n",
       "       [1443.6 ],\n",
       "       [1410.  ],\n",
       "       [1440.2 ],\n",
       "       [1438.  ],\n",
       "       [1391.05]])"
      ]
     },
     "execution_count": 20,
     "metadata": {},
     "output_type": "execute_result"
    }
   ],
   "source": [
    "real_stock_price"
   ]
  },
  {
   "cell_type": "code",
   "execution_count": 21,
   "id": "beb0ce39",
   "metadata": {},
   "outputs": [],
   "source": [
    "# Geting the Predicted Stock Price of 2017\n",
    "inputs = real_stock_price"
   ]
  },
  {
   "cell_type": "code",
   "execution_count": 22,
   "id": "81bd1130",
   "metadata": {},
   "outputs": [],
   "source": [
    "inputs = sc.transform(inputs)"
   ]
  },
  {
   "cell_type": "code",
   "execution_count": 23,
   "id": "f1314e0e",
   "metadata": {},
   "outputs": [],
   "source": [
    "inputs = np.reshape(inputs, (real_stock_price.size , 1, 1))\n"
   ]
  },
  {
   "cell_type": "code",
   "execution_count": 24,
   "id": "158ac980",
   "metadata": {},
   "outputs": [
    {
     "name": "stdout",
     "output_type": "stream",
     "text": [
      "2/2 [==============================] - 1s 5ms/step\n"
     ]
    }
   ],
   "source": [
    "predicted_stock_price = model.predict(inputs)"
   ]
  },
  {
   "cell_type": "code",
   "execution_count": 25,
   "id": "a2a03b8c",
   "metadata": {},
   "outputs": [],
   "source": [
    "predicted_stock_price = sc.inverse_transform(predicted_stock_price)"
   ]
  },
  {
   "cell_type": "code",
   "execution_count": 26,
   "id": "ea40118d",
   "metadata": {},
   "outputs": [
    {
     "data": {
      "text/plain": [
       "array([[1550.6433],\n",
       "       [1547.0149],\n",
       "       [1559.7385],\n",
       "       [1549.7484],\n",
       "       [1539.8069],\n",
       "       [1557.7007],\n",
       "       [1549.699 ],\n",
       "       [1513.9518],\n",
       "       [1519.2229],\n",
       "       [1509.973 ],\n",
       "       [1494.9519],\n",
       "       [1521.908 ],\n",
       "       [1481.122 ],\n",
       "       [1453.2554],\n",
       "       [1455.3456],\n",
       "       [1468.7825],\n",
       "       [1435.3356],\n",
       "       [1418.4075],\n",
       "       [1444.2463],\n",
       "       [1487.092 ],\n",
       "       [1510.6693],\n",
       "       [1512.9569],\n",
       "       [1484.107 ],\n",
       "       [1524.7921],\n",
       "       [1515.9407],\n",
       "       [1519.7699],\n",
       "       [1520.1179],\n",
       "       [1485.1022],\n",
       "       [1486.1968],\n",
       "       [1443.8977],\n",
       "       [1410.4404],\n",
       "       [1440.513 ],\n",
       "       [1438.3225],\n",
       "       [1391.5643]], dtype=float32)"
      ]
     },
     "execution_count": 26,
     "metadata": {},
     "output_type": "execute_result"
    }
   ],
   "source": [
    "predicted_stock_price"
   ]
  },
  {
   "cell_type": "code",
   "execution_count": 27,
   "id": "7b78b599",
   "metadata": {},
   "outputs": [
    {
     "data": {
      "image/png": "[encoded data removed]",
      "text/plain": [
       "<Figure size 432x288 with 1 Axes>"
      ]
     },
     "metadata": {
      "needs_background": "light"
     },
     "output_type": "display_data"
    }
   ],
   "source": [
    "# Visulising the Result \n",
    "plt.plot( real_stock_price , color = 'red' , label = 'Real Stock Price')\n",
    "plt.plot( predicted_stock_price , color = 'blue' , label = 'Predicted Stock Price')\n",
    "plt.title('Google Price Prediction')\n",
    "plt.xlabel( 'time' )\n",
    "plt.ylabel( 'Google Price' )\n",
    "plt.legend()\n",
    "plt.show()"
   ]
  },
  {
   "cell_type": "code",
   "execution_count": 28,
   "id": "c56b54f0",
   "metadata": {},
   "outputs": [],
   "source": [
    "from sklearn.metrics import r2_score, mean_squared_error"
   ]
  },
  {
   "cell_type": "code",
   "execution_count": 29,
   "id": "bfd6d958",
   "metadata": {
    "scrolled": false
   },
   "outputs": [
    {
     "data": {
      "text/plain": [
       "0.9999737828232943"
      ]
     },
     "execution_count": 29,
     "metadata": {},
     "output_type": "execute_result"
    }
   ],
   "source": [
    "r2_score(real_stock_price,predicted_stock_price)"
   ]
  },
  {
   "cell_type": "code",
   "execution_count": 30,
   "id": "655d37ef",
   "metadata": {},
   "outputs": [
    {
     "data": {
      "text/plain": [
       "0.23336546841310152"
      ]
     },
     "execution_count": 30,
     "metadata": {},
     "output_type": "execute_result"
    }
   ],
   "source": [
    "np.sqrt(mean_squared_error(real_stock_price,predicted_stock_price))"
   ]
  },
  {
   "cell_type": "markdown",
   "id": "dbcb2d35",
   "metadata": {},
   "source": [
    "# 9. Save Weights & Loading the model"
   ]
  },
  {
   "cell_type": "code",
   "execution_count": 33,
   "id": "7d455e67",
   "metadata": {},
   "outputs": [],
   "source": [
    "model.save('infosys_stock.h5')"
   ]
  },
  {
   "cell_type": "code",
   "execution_count": 34,
   "id": "c264863a",
   "metadata": {},
   "outputs": [],
   "source": [
    "model.load_weights('infosys_stock.h5')"
   ]
  },
  {
   "cell_type": "code",
   "execution_count": null,
   "id": "6418af50",
   "metadata": {},
   "outputs": [],
   "source": []
  },
  {
   "cell_type": "code",
   "execution_count": null,
   "id": "c686068f",
   "metadata": {},
   "outputs": [],
   "source": []
  }
 ],
 "metadata": {
  "kernelspec": {
   "display_name": "Python 3 (ipykernel)",
   "language": "python",
   "name": "python3"
  },
  "language_info": {
   "codemirror_mode": {
    "name": "ipython",
    "version": 3
   },
   "file_extension": ".py",
   "mimetype": "text/x-python",
   "name": "python",
   "nbconvert_exporter": "python",
   "pygments_lexer": "ipython3",
   "version": "3.9.12"
  }
 },
 "nbformat": 4,
 "nbformat_minor": 5
}
